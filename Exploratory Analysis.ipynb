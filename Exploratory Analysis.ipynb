{
 "cells": [
  {
   "cell_type": "code",
   "execution_count": 1,
   "metadata": {},
   "outputs": [],
   "source": [
    "data = read.csv(\"Project Data.csv\")"
   ]
  },
  {
   "cell_type": "code",
   "execution_count": 2,
   "metadata": {},
   "outputs": [
    {
     "data": {
      "text/plain": [
       " Gender     Nationality       PlaceofBirth       StageID        Topic    \n",
       " F:175   KW       :179   Kuwait     :180   Elementary:199   IT     : 95  \n",
       " M:305   Jordan   :172   Jordan     :176   High      : 33   French : 65  \n",
       "         Palestine: 28   Iraq       : 22   Middle    :248   Arabic : 59  \n",
       "         Iraq     : 22   Lebanon    : 19                    Science: 51  \n",
       "         lebanon  : 16   SaudiArabia: 16                    English: 45  \n",
       "         Tunis    : 12   USA        : 16                    Biology: 30  \n",
       "         (Other)  : 51   (Other)    : 51                    (Other):135  \n",
       " Semester  Raisedhands     Visted.Resources AnnouncementsView  Discussions   \n",
       " F:245    Min.   :  0.00   Min.   : 0.0     Min.   : 0.00     Min.   : 1.00  \n",
       " S:235    1st Qu.: 15.75   1st Qu.:20.0     1st Qu.:14.00     1st Qu.:20.00  \n",
       "          Median : 50.00   Median :65.0     Median :33.00     Median :39.00  \n",
       "          Mean   : 46.77   Mean   :54.8     Mean   :37.92     Mean   :43.28  \n",
       "          3rd Qu.: 75.00   3rd Qu.:84.0     3rd Qu.:58.00     3rd Qu.:70.00  \n",
       "          Max.   :100.00   Max.   :99.0     Max.   :98.00     Max.   :99.00  \n",
       "                                                                             \n",
       " Parent.Satisfaction    Absences   Class.Size\n",
       " Bad :188            Above-7:191   H:142     \n",
       " Good:292            Under-7:289   L:127     \n",
       "                                   M:211     \n",
       "                                             \n",
       "                                             \n",
       "                                             \n",
       "                                             "
      ]
     },
     "metadata": {},
     "output_type": "display_data"
    }
   ],
   "source": [
    "summary(data)"
   ]
  },
  {
   "cell_type": "code",
   "execution_count": 3,
   "metadata": {},
   "outputs": [
    {
     "data": {
      "text/html": [
       "480"
      ],
      "text/latex": [
       "480"
      ],
      "text/markdown": [
       "480"
      ],
      "text/plain": [
       "[1] 480"
      ]
     },
     "metadata": {},
     "output_type": "display_data"
    }
   ],
   "source": [
    "nrow(data)"
   ]
  },
  {
   "cell_type": "code",
   "execution_count": 4,
   "metadata": {},
   "outputs": [],
   "source": [
    "training_entries <- sample(480,360)"
   ]
  },
  {
   "cell_type": "code",
   "execution_count": 5,
   "metadata": {},
   "outputs": [],
   "source": [
    "training <- data[training_entries,]\n",
    "testing <- data[-training_entries, ]"
   ]
  },
  {
   "cell_type": "markdown",
   "metadata": {},
   "source": [
    "# Can I create a model that will predict the number of raised hands based off a students StageID, absences, Visited.Resources, and class size? (Multilinear Regression)"
   ]
  },
  {
   "cell_type": "code",
   "execution_count": 15,
   "metadata": {},
   "outputs": [],
   "source": [
    "model = lm(Raisedhands ~ StageID + Absences + Visted.Resources + Class.Size, data=training)"
   ]
  },
  {
   "cell_type": "code",
   "execution_count": 16,
   "metadata": {},
   "outputs": [
    {
     "data": {
      "text/plain": [
       "\n",
       "Call:\n",
       "lm(formula = Raisedhands ~ StageID + Visted.Resources + Class.Size, \n",
       "    data = training)\n",
       "\n",
       "Residuals:\n",
       "    Min      1Q  Median      3Q     Max \n",
       "-66.138 -11.039   0.459  11.801  56.327 \n",
       "\n",
       "Coefficients:\n",
       "                  Estimate Std. Error t value Pr(>|t|)    \n",
       "(Intercept)       31.77904    4.40940   7.207 3.48e-12 ***\n",
       "StageIDHigh       -0.13038    4.39966  -0.030 0.976375    \n",
       "StageIDMiddle      8.79303    2.26221   3.887 0.000121 ***\n",
       "Visted.Resources   0.41820    0.04758   8.790  < 2e-16 ***\n",
       "Class.SizeL      -26.50676    4.11110  -6.448 3.73e-10 ***\n",
       "Class.SizeM      -12.57573    2.81668  -4.465 1.08e-05 ***\n",
       "---\n",
       "Signif. codes:  0 '***' 0.001 '**' 0.01 '*' 0.05 '.' 0.1 ' ' 1\n",
       "\n",
       "Residual standard error: 20.36 on 354 degrees of freedom\n",
       "Multiple R-squared:  0.5719,\tAdjusted R-squared:  0.5658 \n",
       "F-statistic: 94.56 on 5 and 354 DF,  p-value: < 2.2e-16\n"
      ]
     },
     "metadata": {},
     "output_type": "display_data"
    }
   ],
   "source": [
    "model = step(model, direction = \"backward\", trace = 0)\n",
    "summary(model)"
   ]
  },
  {
   "cell_type": "code",
   "execution_count": 17,
   "metadata": {},
   "outputs": [],
   "source": [
    "predictions = predict(model)\n",
    "resid = residuals(model)"
   ]
  },
  {
   "cell_type": "code",
   "execution_count": 18,
   "metadata": {},
   "outputs": [
    {
     "data": {
      "image/png": "[encoded data removed]",
      "text/plain": [
       "plot without title"
      ]
     },
     "metadata": {},
     "output_type": "display_data"
    }
   ],
   "source": [
    "plot(predictions,\n",
    "     resid,\n",
    "     xlab=\"Predicted Weight (g)\",\n",
    "     ylab=\"Residual (g)\")\n",
    "abline(0,0, lty=2)"
   ]
  },
  {
   "cell_type": "markdown",
   "metadata": {},
   "source": [
    "There is a clear linear line from the bottom left to right of the graph. "
   ]
  },
  {
   "cell_type": "code",
   "execution_count": 19,
   "metadata": {},
   "outputs": [
    {
     "data": {
      "image/png": "[encoded data removed]",
      "text/plain": [
       "Plot with title \"Histogram of resid\""
      ]
     },
     "metadata": {},
     "output_type": "display_data"
    }
   ],
   "source": [
    "hist(resid)"
   ]
  },
  {
   "cell_type": "code",
   "execution_count": 20,
   "metadata": {},
   "outputs": [
    {
     "data": {
      "text/plain": [
       " Gender     Nationality       PlaceofBirth       StageID        Topic    \n",
       " F:175   KW       :179   Kuwait     :180   Elementary:199   IT     : 95  \n",
       " M:305   Jordan   :172   Jordan     :176   High      : 33   French : 65  \n",
       "         Palestine: 28   Iraq       : 22   Middle    :248   Arabic : 59  \n",
       "         Iraq     : 22   Lebanon    : 19                    Science: 51  \n",
       "         lebanon  : 16   SaudiArabia: 16                    English: 45  \n",
       "         Tunis    : 12   USA        : 16                    Biology: 30  \n",
       "         (Other)  : 51   (Other)    : 51                    (Other):135  \n",
       " Semester  Raisedhands     Visted.Resources AnnouncementsView  Discussions   \n",
       " F:245    Min.   :  0.00   Min.   : 0.0     Min.   : 0.00     Min.   : 1.00  \n",
       " S:235    1st Qu.: 15.75   1st Qu.:20.0     1st Qu.:14.00     1st Qu.:20.00  \n",
       "          Median : 50.00   Median :65.0     Median :33.00     Median :39.00  \n",
       "          Mean   : 46.77   Mean   :54.8     Mean   :37.92     Mean   :43.28  \n",
       "          3rd Qu.: 75.00   3rd Qu.:84.0     3rd Qu.:58.00     3rd Qu.:70.00  \n",
       "          Max.   :100.00   Max.   :99.0     Max.   :98.00     Max.   :99.00  \n",
       "                                                                             \n",
       " Parent.Satisfaction    Absences   Class.Size\n",
       " Bad :188            Above-7:191   H:142     \n",
       " Good:292            Under-7:289   L:127     \n",
       "                                   M:211     \n",
       "                                             \n",
       "                                             \n",
       "                                             \n",
       "                                             "
      ]
     },
     "metadata": {},
     "output_type": "display_data"
    }
   ],
   "source": [
    "summary(data)"
   ]
  },
  {
   "cell_type": "markdown",
   "metadata": {},
   "source": [
    "Not doing the cor the variables are different enough I.E Gender."
   ]
  },
  {
   "cell_type": "markdown",
   "metadata": {},
   "source": [
    "# Question 2: Can I predict the StageID based off the how many times a student participates in discussion, views announcements, and raised hands. (Decision Trees)\n"
   ]
  },
  {
   "cell_type": "code",
   "execution_count": 27,
   "metadata": {},
   "outputs": [],
   "source": [
    "library(rpart)"
   ]
  },
  {
   "cell_type": "code",
   "execution_count": 114,
   "metadata": {},
   "outputs": [],
   "source": [
    "model2 = rpart(StageID ~ Discussions+AnnouncementsView+Raisedhands, data=training, method=\"class\")"
   ]
  },
  {
   "cell_type": "code",
   "execution_count": 115,
   "metadata": {},
   "outputs": [
    {
     "data": {
      "text/plain": [
       "\n",
       "Call:\n",
       "lm(formula = Raisedhands ~ StageID + Visted.Resources + Class.Size, \n",
       "    data = training)\n",
       "\n",
       "Residuals:\n",
       "    Min      1Q  Median      3Q     Max \n",
       "-66.138 -11.039   0.459  11.801  56.327 \n",
       "\n",
       "Coefficients:\n",
       "                  Estimate Std. Error t value Pr(>|t|)    \n",
       "(Intercept)       31.77904    4.40940   7.207 3.48e-12 ***\n",
       "StageIDHigh       -0.13038    4.39966  -0.030 0.976375    \n",
       "StageIDMiddle      8.79303    2.26221   3.887 0.000121 ***\n",
       "Visted.Resources   0.41820    0.04758   8.790  < 2e-16 ***\n",
       "Class.SizeL      -26.50676    4.11110  -6.448 3.73e-10 ***\n",
       "Class.SizeM      -12.57573    2.81668  -4.465 1.08e-05 ***\n",
       "---\n",
       "Signif. codes:  0 '***' 0.001 '**' 0.01 '*' 0.05 '.' 0.1 ' ' 1\n",
       "\n",
       "Residual standard error: 20.36 on 354 degrees of freedom\n",
       "Multiple R-squared:  0.5719,\tAdjusted R-squared:  0.5658 \n",
       "F-statistic: 94.56 on 5 and 354 DF,  p-value: < 2.2e-16\n"
      ]
     },
     "metadata": {},
     "output_type": "display_data"
    }
   ],
   "source": [
    "summary(model)"
   ]
  },
  {
   "cell_type": "code",
   "execution_count": 116,
   "metadata": {},
   "outputs": [
    {
     "data": {
      "image/png": "[encoded data removed]",
      "text/plain": [
       "plot without title"
      ]
     },
     "metadata": {},
     "output_type": "display_data"
    }
   ],
   "source": [
    "plotcp(model2)"
   ]
  },
  {
   "cell_type": "code",
   "execution_count": 117,
   "metadata": {},
   "outputs": [],
   "source": [
    "model2 <- prune(model2, cp = 0.025)"
   ]
  },
  {
   "cell_type": "code",
   "execution_count": 118,
   "metadata": {},
   "outputs": [
    {
     "data": {
      "image/png": "[encoded data removed]",
      "text/plain": [
       "plot without title"
      ]
     },
     "metadata": {},
     "output_type": "display_data"
    }
   ],
   "source": [
    "plot(model2)\n",
    "text(model2, xpd=TRUE, use.n=TRUE, all=FALSE, minlength=10)"
   ]
  },
  {
   "cell_type": "code",
   "execution_count": 35,
   "metadata": {},
   "outputs": [],
   "source": [
    "testing$prediction <- predict(model2,testing, type=\"class\")"
   ]
  },
  {
   "cell_type": "code",
   "execution_count": 36,
   "metadata": {},
   "outputs": [
    {
     "data": {
      "text/plain": [
       "            \n",
       "             Elementary High Middle\n",
       "  Elementary         38    0      8\n",
       "  High                7    0      1\n",
       "  Middle             36    0     30"
      ]
     },
     "metadata": {},
     "output_type": "display_data"
    }
   ],
   "source": [
    "table(testing$StageID,testing$prediction)"
   ]
  },
  {
   "cell_type": "code",
   "execution_count": 120,
   "metadata": {},
   "outputs": [
    {
     "data": {
      "text/html": [
       "0.566666666666667"
      ],
      "text/latex": [
       "0.566666666666667"
      ],
      "text/markdown": [
       "0.566666666666667"
      ],
      "text/plain": [
       "[1] 0.5666667"
      ]
     },
     "metadata": {},
     "output_type": "display_data"
    }
   ],
   "source": [
    "(38+30)/(38+8+7+1+30+36) #Accuracy"
   ]
  },
  {
   "cell_type": "markdown",
   "metadata": {},
   "source": [
    "Not a good model, as it doesn't predict high school. "
   ]
  },
  {
   "cell_type": "markdown",
   "metadata": {},
   "source": [
    "# 2 Can I create a model that can predict what topic students will study based off whether or not they have under or above 7 absences, Parental Satisfaction, and Class Size. (Naive Bayes)"
   ]
  },
  {
   "cell_type": "code",
   "execution_count": 37,
   "metadata": {},
   "outputs": [],
   "source": [
    "library(e1071)"
   ]
  },
  {
   "cell_type": "code",
   "execution_count": 48,
   "metadata": {},
   "outputs": [],
   "source": [
    "# model3 = naiveBayes(Topic ~ Absences+Parent.Satisfaction+Class.Size, data=training)\n",
    "model3 = naiveBayes(Topic ~ ., data=training)"
   ]
  },
  {
   "cell_type": "code",
   "execution_count": 49,
   "metadata": {},
   "outputs": [
    {
     "data": {
      "text/plain": [
       "\n",
       "Naive Bayes Classifier for Discrete Predictors\n",
       "\n",
       "Call:\n",
       "naiveBayes.default(x = X, y = Y, laplace = laplace)\n",
       "\n",
       "A-priori probabilities:\n",
       "Y\n",
       "    Arabic    Biology  Chemistry    English     French    Geology    History \n",
       "0.11666667 0.06388889 0.05000000 0.09166667 0.12500000 0.04166667 0.04444444 \n",
       "        IT       Math      Quran    Science    Spanish \n",
       "0.21666667 0.04444444 0.04722222 0.10000000 0.05833333 \n",
       "\n",
       "Conditional probabilities:\n",
       "           Gender\n",
       "Y                    F          M\n",
       "  Arabic    0.30952381 0.69047619\n",
       "  Biology   0.30434783 0.69565217\n",
       "  Chemistry 0.55555556 0.44444444\n",
       "  English   0.45454545 0.54545455\n",
       "  French    0.44444444 0.55555556\n",
       "  Geology   0.40000000 0.60000000\n",
       "  History   0.43750000 0.56250000\n",
       "  IT        0.32051282 0.67948718\n",
       "  Math      0.25000000 0.75000000\n",
       "  Quran     0.47058824 0.52941176\n",
       "  Science   0.44444444 0.55555556\n",
       "  Spanish   0.04761905 0.95238095\n",
       "\n",
       "           Nationality\n",
       "Y                Egypt       Iran       Iraq     Jordan         KW    Lebanon\n",
       "  Arabic    0.00000000 0.00000000 0.14285714 0.38095238 0.30952381 0.00000000\n",
       "  Biology   0.00000000 0.00000000 0.13043478 0.56521739 0.00000000 0.00000000\n",
       "  Chemistry 0.00000000 0.00000000 0.11111111 0.88888889 0.00000000 0.00000000\n",
       "  English   0.00000000 0.00000000 0.06060606 0.39393939 0.33333333 0.00000000\n",
       "  French    0.04444444 0.00000000 0.02222222 0.46666667 0.08888889 0.00000000\n",
       "  Geology   0.00000000 0.00000000 0.06666667 0.86666667 0.00000000 0.00000000\n",
       "  History   0.00000000 0.00000000 0.12500000 0.37500000 0.43750000 0.00000000\n",
       "  IT        0.01282051 0.02564103 0.00000000 0.03846154 0.88461538 0.00000000\n",
       "  Math      0.06250000 0.00000000 0.00000000 0.00000000 0.62500000 0.06250000\n",
       "  Quran     0.05882353 0.00000000 0.00000000 0.17647059 0.47058824 0.00000000\n",
       "  Science   0.02777778 0.00000000 0.02777778 0.50000000 0.19444444 0.00000000\n",
       "  Spanish   0.00000000 0.09523810 0.00000000 0.09523810 0.57142857 0.00000000\n",
       "           Nationality\n",
       "Y                Lybia    Morocco  Palestine SaudiArabia      Syria      Tunis\n",
       "  Arabic    0.00000000 0.04761905 0.04761905  0.02380952 0.00000000 0.00000000\n",
       "  Biology   0.04347826 0.00000000 0.17391304  0.00000000 0.08695652 0.00000000\n",
       "  Chemistry 0.00000000 0.00000000 0.00000000  0.00000000 0.00000000 0.00000000\n",
       "  English   0.00000000 0.00000000 0.09090909  0.03030303 0.00000000 0.00000000\n",
       "  French    0.06666667 0.00000000 0.06666667  0.02222222 0.06666667 0.06666667\n",
       "  Geology   0.00000000 0.00000000 0.06666667  0.00000000 0.00000000 0.00000000\n",
       "  History   0.00000000 0.00000000 0.06250000  0.00000000 0.00000000 0.00000000\n",
       "  IT        0.00000000 0.00000000 0.00000000  0.02564103 0.00000000 0.00000000\n",
       "  Math      0.00000000 0.00000000 0.00000000  0.06250000 0.00000000 0.00000000\n",
       "  Quran     0.00000000 0.00000000 0.00000000  0.05882353 0.00000000 0.11764706\n",
       "  Science   0.00000000 0.00000000 0.11111111  0.08333333 0.00000000 0.05555556\n",
       "  Spanish   0.00000000 0.00000000 0.00000000  0.04761905 0.00000000 0.09523810\n",
       "           Nationality\n",
       "Y                  USA    lebanon   venzuela\n",
       "  Arabic    0.00000000 0.04761905 0.00000000\n",
       "  Biology   0.00000000 0.00000000 0.00000000\n",
       "  Chemistry 0.00000000 0.00000000 0.00000000\n",
       "  English   0.03030303 0.06060606 0.00000000\n",
       "  French    0.00000000 0.08888889 0.00000000\n",
       "  Geology   0.00000000 0.00000000 0.00000000\n",
       "  History   0.00000000 0.00000000 0.00000000\n",
       "  IT        0.01282051 0.00000000 0.00000000\n",
       "  Math      0.12500000 0.06250000 0.00000000\n",
       "  Quran     0.00000000 0.11764706 0.00000000\n",
       "  Science   0.00000000 0.00000000 0.00000000\n",
       "  Spanish   0.00000000 0.09523810 0.00000000\n",
       "\n",
       "           PlaceofBirth\n",
       "Y                Egypt       Iran       Iraq     Jordan     Kuwait    Lebanon\n",
       "  Arabic    0.00000000 0.00000000 0.14285714 0.40476190 0.30952381 0.04761905\n",
       "  Biology   0.00000000 0.00000000 0.13043478 0.56521739 0.00000000 0.00000000\n",
       "  Chemistry 0.00000000 0.00000000 0.11111111 0.83333333 0.00000000 0.00000000\n",
       "  English   0.00000000 0.00000000 0.06060606 0.48484848 0.33333333 0.06060606\n",
       "  French    0.04444444 0.00000000 0.02222222 0.51111111 0.08888889 0.08888889\n",
       "  Geology   0.00000000 0.00000000 0.06666667 0.66666667 0.00000000 0.00000000\n",
       "  History   0.00000000 0.00000000 0.12500000 0.43750000 0.43750000 0.00000000\n",
       "  IT        0.01282051 0.02564103 0.00000000 0.03846154 0.88461538 0.00000000\n",
       "  Math      0.06250000 0.00000000 0.00000000 0.00000000 0.62500000 0.12500000\n",
       "  Quran     0.05882353 0.00000000 0.00000000 0.11764706 0.35294118 0.17647059\n",
       "  Science   0.02777778 0.00000000 0.02777778 0.50000000 0.22222222 0.05555556\n",
       "  Spanish   0.00000000 0.09523810 0.00000000 0.00000000 0.61904762 0.09523810\n",
       "           PlaceofBirth\n",
       "Y                Lybia    Morocco  Palestine SaudiArabia      Syria    Tunisia\n",
       "  Arabic    0.00000000 0.04761905 0.00000000  0.04761905 0.00000000 0.00000000\n",
       "  Biology   0.04347826 0.00000000 0.17391304  0.00000000 0.08695652 0.00000000\n",
       "  Chemistry 0.00000000 0.00000000 0.00000000  0.05555556 0.00000000 0.00000000\n",
       "  English   0.00000000 0.00000000 0.00000000  0.00000000 0.00000000 0.00000000\n",
       "  French    0.06666667 0.00000000 0.00000000  0.02222222 0.06666667 0.04444444\n",
       "  Geology   0.00000000 0.00000000 0.06666667  0.20000000 0.00000000 0.00000000\n",
       "  History   0.00000000 0.00000000 0.00000000  0.00000000 0.00000000 0.00000000\n",
       "  IT        0.00000000 0.00000000 0.00000000  0.02564103 0.00000000 0.00000000\n",
       "  Math      0.00000000 0.00000000 0.00000000  0.00000000 0.00000000 0.00000000\n",
       "  Quran     0.00000000 0.00000000 0.00000000  0.05882353 0.00000000 0.11764706\n",
       "  Science   0.00000000 0.00000000 0.05555556  0.02777778 0.00000000 0.02777778\n",
       "  Spanish   0.00000000 0.00000000 0.00000000  0.04761905 0.00000000 0.09523810\n",
       "           PlaceofBirth\n",
       "Y                  USA  Venezuela\n",
       "  Arabic    0.00000000 0.00000000\n",
       "  Biology   0.00000000 0.00000000\n",
       "  Chemistry 0.00000000 0.00000000\n",
       "  English   0.06060606 0.00000000\n",
       "  French    0.04444444 0.00000000\n",
       "  Geology   0.00000000 0.00000000\n",
       "  History   0.00000000 0.00000000\n",
       "  IT        0.01282051 0.00000000\n",
       "  Math      0.18750000 0.00000000\n",
       "  Quran     0.11764706 0.00000000\n",
       "  Science   0.05555556 0.00000000\n",
       "  Spanish   0.04761905 0.00000000\n",
       "\n",
       "           StageID\n",
       "Y           Elementary       High     Middle\n",
       "  Arabic    0.57142857 0.00000000 0.42857143\n",
       "  Biology   0.00000000 0.00000000 1.00000000\n",
       "  Chemistry 0.00000000 0.00000000 1.00000000\n",
       "  English   0.15151515 0.24242424 0.60606061\n",
       "  French    0.97777778 0.02222222 0.00000000\n",
       "  Geology   0.00000000 0.00000000 1.00000000\n",
       "  History   0.43750000 0.00000000 0.56250000\n",
       "  IT        0.66666667 0.06410256 0.26923077\n",
       "  Math      0.06250000 0.12500000 0.81250000\n",
       "  Quran     0.00000000 0.23529412 0.76470588\n",
       "  Science   0.55555556 0.11111111 0.33333333\n",
       "  Spanish   0.00000000 0.04761905 0.95238095\n",
       "\n",
       "           Semester\n",
       "Y                    F          S\n",
       "  Arabic    0.30952381 0.69047619\n",
       "  Biology   0.60869565 0.39130435\n",
       "  Chemistry 0.55555556 0.44444444\n",
       "  English   0.66666667 0.33333333\n",
       "  French    0.24444444 0.75555556\n",
       "  Geology   0.60000000 0.40000000\n",
       "  History   0.31250000 0.68750000\n",
       "  IT        0.93589744 0.06410256\n",
       "  Math      0.75000000 0.25000000\n",
       "  Quran     0.23529412 0.76470588\n",
       "  Science   0.36111111 0.63888889\n",
       "  Spanish   0.00000000 1.00000000\n",
       "\n",
       "           Raisedhands\n",
       "Y               [,1]     [,2]\n",
       "  Arabic    42.57143 31.90851\n",
       "  Biology   69.34783 26.25852\n",
       "  Chemistry 58.44444 34.76006\n",
       "  English   53.81818 30.39167\n",
       "  French    42.42222 23.00641\n",
       "  Geology   75.66667 16.84665\n",
       "  History   56.12500 26.74790\n",
       "  IT        27.70513 27.20729\n",
       "  Math      38.62500 27.54118\n",
       "  Quran     53.05882 32.56814\n",
       "  Science   54.02778 28.47704\n",
       "  Spanish   38.61905 31.21775\n",
       "\n",
       "           Visted.Resources\n",
       "Y               [,1]      [,2]\n",
       "  Arabic    50.40476 34.560699\n",
       "  Biology   79.78261 23.469432\n",
       "  Chemistry 70.38889 36.344979\n",
       "  English   52.39394 29.342737\n",
       "  French    60.33333 33.268194\n",
       "  Geology   81.86667  5.853774\n",
       "  History   66.12500 33.921232\n",
       "  IT        31.70513 29.512097\n",
       "  Math      39.62500 34.310105\n",
       "  Quran     62.88235 28.720381\n",
       "  Science   56.69444 28.393983\n",
       "  Spanish   51.61905 26.545200\n",
       "\n",
       "           AnnouncementsView\n",
       "Y               [,1]     [,2]\n",
       "  Arabic    36.69048 16.87615\n",
       "  Biology   52.17391 28.23063\n",
       "  Chemistry 44.11111 27.73167\n",
       "  English   40.15152 27.15709\n",
       "  French    32.95556 25.53692\n",
       "  Geology   60.86667 20.85620\n",
       "  History   58.50000 27.33496\n",
       "  IT        17.32051 18.01911\n",
       "  Math      31.37500 26.22435\n",
       "  Quran     41.05882 26.78962\n",
       "  Science   48.86111 27.20625\n",
       "  Spanish   35.47619 22.38888\n",
       "\n",
       "           Discussions\n",
       "Y               [,1]     [,2]\n",
       "  Arabic    45.90476 26.31128\n",
       "  Biology   49.21739 29.80384\n",
       "  Chemistry 38.22222 32.23727\n",
       "  English   44.93939 24.37717\n",
       "  French    25.11111 17.95603\n",
       "  Geology   58.86667 25.43863\n",
       "  History   65.87500 22.98369\n",
       "  IT        42.35897 26.96991\n",
       "  Math      46.06250 33.48128\n",
       "  Quran     43.11765 25.31769\n",
       "  Science   55.52778 28.12471\n",
       "  Spanish   27.57143 22.35077\n",
       "\n",
       "           Parent.Satisfaction\n",
       "Y                 Bad      Good\n",
       "  Arabic    0.5476190 0.4523810\n",
       "  Biology   0.2173913 0.7826087\n",
       "  Chemistry 0.2222222 0.7777778\n",
       "  English   0.4242424 0.5757576\n",
       "  French    0.3555556 0.6444444\n",
       "  Geology   0.2666667 0.7333333\n",
       "  History   0.2500000 0.7500000\n",
       "  IT        0.5000000 0.5000000\n",
       "  Math      0.4375000 0.5625000\n",
       "  Quran     0.4705882 0.5294118\n",
       "  Science   0.3055556 0.6944444\n",
       "  Spanish   0.5714286 0.4285714\n",
       "\n",
       "           Absences\n",
       "Y             Above-7   Under-7\n",
       "  Arabic    0.4285714 0.5714286\n",
       "  Biology   0.2173913 0.7826087\n",
       "  Chemistry 0.4444444 0.5555556\n",
       "  English   0.3939394 0.6060606\n",
       "  French    0.3333333 0.6666667\n",
       "  Geology   0.2000000 0.8000000\n",
       "  History   0.5000000 0.5000000\n",
       "  IT        0.5000000 0.5000000\n",
       "  Math      0.5000000 0.5000000\n",
       "  Quran     0.2941176 0.7058824\n",
       "  Science   0.4444444 0.5555556\n",
       "  Spanish   0.3333333 0.6666667\n",
       "\n",
       "           Class.Size\n",
       "Y                    H          L          M\n",
       "  Arabic    0.33333333 0.33333333 0.33333333\n",
       "  Biology   0.56521739 0.08695652 0.34782609\n",
       "  Chemistry 0.50000000 0.27777778 0.22222222\n",
       "  English   0.42424242 0.21212121 0.36363636\n",
       "  French    0.35555556 0.24444444 0.40000000\n",
       "  Geology   0.26666667 0.00000000 0.73333333\n",
       "  History   0.25000000 0.18750000 0.56250000\n",
       "  IT        0.14102564 0.42307692 0.43589744\n",
       "  Math      0.25000000 0.31250000 0.43750000\n",
       "  Quran     0.41176471 0.29411765 0.29411765\n",
       "  Science   0.36111111 0.19444444 0.44444444\n",
       "  Spanish   0.14285714 0.33333333 0.52380952\n"
      ]
     },
     "metadata": {},
     "output_type": "display_data"
    }
   ],
   "source": [
    "model3"
   ]
  },
  {
   "cell_type": "code",
   "execution_count": 50,
   "metadata": {},
   "outputs": [],
   "source": [
    "predict = predict(model3, testing)"
   ]
  },
  {
   "cell_type": "code",
   "execution_count": 51,
   "metadata": {},
   "outputs": [
    {
     "data": {
      "text/plain": [
       "           \n",
       "predict     Arabic Biology Chemistry English French Geology History IT Math\n",
       "  Arabic         2       1         1       3      4       0       0  0    0\n",
       "  Biology        0       2         0       1      0       0       0  0    0\n",
       "  Chemistry      0       1         2       0      0       2       0  0    0\n",
       "  English        1       0         0       2      1       0       0  2    1\n",
       "  French         3       1         0       1     11       0       0  2    0\n",
       "  Geology        0       2         2       2      0       7       3  0    0\n",
       "  History        1       0         0       0      0       0       0  0    0\n",
       "  IT             2       0         1       3      2       0       0 12    4\n",
       "  Math           0       0         0       0      0       0       0  1    0\n",
       "  Quran          2       0         0       0      0       0       0  0    0\n",
       "  Science        2       0         0       0      2       0       0  0    0\n",
       "  Spanish        4       0         0       0      0       0       0  0    0\n",
       "           \n",
       "predict     Quran Science Spanish\n",
       "  Arabic        0       2       1\n",
       "  Biology       1       0       0\n",
       "  Chemistry     0       1       0\n",
       "  English       0       1       0\n",
       "  French        0       1       0\n",
       "  Geology       2       0       0\n",
       "  History       0       5       0\n",
       "  IT            0       0       0\n",
       "  Math          0       1       0\n",
       "  Quran         1       1       2\n",
       "  Science       0       2       0\n",
       "  Spanish       1       1       1"
      ]
     },
     "metadata": {},
     "output_type": "display_data"
    }
   ],
   "source": [
    "table(predict, testing$Topic)"
   ]
  },
  {
   "cell_type": "code",
   "execution_count": 121,
   "metadata": {},
   "outputs": [
    {
     "data": {
      "text/html": [
       "0.428571428571429"
      ],
      "text/latex": [
       "0.428571428571429"
      ],
      "text/markdown": [
       "0.428571428571429"
      ],
      "text/plain": [
       "[1] 0.4285714"
      ]
     },
     "metadata": {},
     "output_type": "display_data"
    }
   ],
   "source": [
    "(2+2+2+2+11+7+12+2+1+1)/(2+1+1+3+4+2+1+1+2+2+1+2+1+2+1+3+1+1+11+2+2+2+2+7+3+1+2+1+3+2+12+4+2+1+2+2+2+4)"
   ]
  },
  {
   "cell_type": "markdown",
   "metadata": {},
   "source": [
    "# 4 Can I create a model that predicts the gender based off: (Logistic Regression):\n",
    "\n",
    "Raisedhand\n",
    "Visted Resource\n",
    "AnnouncementsView\n",
    "Discussions\n",
    "Parent Satisfaction\n",
    "Absences\n",
    "Class Size\n"
   ]
  },
  {
   "cell_type": "code",
   "execution_count": 54,
   "metadata": {},
   "outputs": [
    {
     "data": {
      "text/plain": [
       " Gender     Nationality       PlaceofBirth       StageID        Topic    \n",
       " F:175   KW       :179   Kuwait     :180   Elementary:199   IT     : 95  \n",
       " M:305   Jordan   :172   Jordan     :176   High      : 33   French : 65  \n",
       "         Palestine: 28   Iraq       : 22   Middle    :248   Arabic : 59  \n",
       "         Iraq     : 22   Lebanon    : 19                    Science: 51  \n",
       "         lebanon  : 16   SaudiArabia: 16                    English: 45  \n",
       "         Tunis    : 12   USA        : 16                    Biology: 30  \n",
       "         (Other)  : 51   (Other)    : 51                    (Other):135  \n",
       " Semester  Raisedhands     Visted.Resources AnnouncementsView  Discussions   \n",
       " F:245    Min.   :  0.00   Min.   : 0.0     Min.   : 0.00     Min.   : 1.00  \n",
       " S:235    1st Qu.: 15.75   1st Qu.:20.0     1st Qu.:14.00     1st Qu.:20.00  \n",
       "          Median : 50.00   Median :65.0     Median :33.00     Median :39.00  \n",
       "          Mean   : 46.77   Mean   :54.8     Mean   :37.92     Mean   :43.28  \n",
       "          3rd Qu.: 75.00   3rd Qu.:84.0     3rd Qu.:58.00     3rd Qu.:70.00  \n",
       "          Max.   :100.00   Max.   :99.0     Max.   :98.00     Max.   :99.00  \n",
       "                                                                             \n",
       " Parent.Satisfaction    Absences   Class.Size\n",
       " Bad :188            Above-7:191   H:142     \n",
       " Good:292            Under-7:289   L:127     \n",
       "                                   M:211     \n",
       "                                             \n",
       "                                             \n",
       "                                             \n",
       "                                             "
      ]
     },
     "metadata": {},
     "output_type": "display_data"
    }
   ],
   "source": [
    "summary(data)"
   ]
  },
  {
   "cell_type": "code",
   "execution_count": 62,
   "metadata": {},
   "outputs": [],
   "source": [
    "training$M <- training$Gender == \"M\"\n",
    "testing$M <- testing$Gender == \"M\""
   ]
  },
  {
   "cell_type": "code",
   "execution_count": 63,
   "metadata": {},
   "outputs": [
    {
     "data": {
      "text/plain": [
       "\n",
       "Call:\n",
       "glm(formula = M ~ Raisedhands + Visted.Resources + AnnouncementsView + \n",
       "    Discussions + Parent.Satisfaction + Absences + Class.Size, \n",
       "    family = binomial, data = training)\n",
       "\n",
       "Deviance Residuals: \n",
       "    Min       1Q   Median       3Q      Max  \n",
       "-1.9972  -1.1644   0.6585   0.9163   1.7433  \n",
       "\n",
       "Coefficients:\n",
       "                          Estimate Std. Error z value Pr(>|z|)   \n",
       "(Intercept)              0.4345639  0.6498419   0.669  0.50367   \n",
       "Raisedhands             -0.0004142  0.0059160  -0.070  0.94418   \n",
       "Visted.Resources        -0.0078245  0.0057330  -1.365  0.17231   \n",
       "AnnouncementsView        0.0167907  0.0064584   2.600  0.00933 **\n",
       "Discussions             -0.0098650  0.0046845  -2.106  0.03521 * \n",
       "Parent.SatisfactionGood  0.0214032  0.2626418   0.081  0.93505   \n",
       "AbsencesUnder-7         -0.3628875  0.3384593  -1.072  0.28364   \n",
       "Class.SizeL              1.2061933  0.5771428   2.090  0.03662 * \n",
       "Class.SizeM              0.7156532  0.3211423   2.228  0.02585 * \n",
       "---\n",
       "Signif. codes:  0 '***' 0.001 '**' 0.01 '*' 0.05 '.' 0.1 ' ' 1\n",
       "\n",
       "(Dispersion parameter for binomial family taken to be 1)\n",
       "\n",
       "    Null deviance: 473.15  on 359  degrees of freedom\n",
       "Residual deviance: 433.58  on 351  degrees of freedom\n",
       "AIC: 451.58\n",
       "\n",
       "Number of Fisher Scoring iterations: 4\n"
      ]
     },
     "metadata": {},
     "output_type": "display_data"
    }
   ],
   "source": [
    "model4 = glm(M ~ Raisedhands+Visted.Resources+AnnouncementsView+Discussions+Parent.Satisfaction+Absences+Class.Size, data=training, family=binomial)\n",
    "summary(model4)"
   ]
  },
  {
   "cell_type": "code",
   "execution_count": 64,
   "metadata": {},
   "outputs": [
    {
     "data": {
      "text/plain": [
       "\n",
       "Call:\n",
       "glm(formula = M ~ Visted.Resources + AnnouncementsView + Discussions + \n",
       "    Class.Size, family = binomial, data = training)\n",
       "\n",
       "Deviance Residuals: \n",
       "    Min       1Q   Median       3Q      Max  \n",
       "-1.9866  -1.1842   0.6575   0.9244   1.7592  \n",
       "\n",
       "Coefficients:\n",
       "                   Estimate Std. Error z value Pr(>|z|)    \n",
       "(Intercept)        0.080124   0.503325   0.159 0.873520    \n",
       "Visted.Resources  -0.008314   0.005417  -1.535 0.124852    \n",
       "AnnouncementsView  0.017564   0.006052   2.902 0.003706 ** \n",
       "Discussions       -0.010099   0.004650  -2.172 0.029878 *  \n",
       "Class.SizeL        1.536827   0.462377   3.324 0.000888 ***\n",
       "Class.SizeM        0.825789   0.293937   2.809 0.004963 ** \n",
       "---\n",
       "Signif. codes:  0 '***' 0.001 '**' 0.01 '*' 0.05 '.' 0.1 ' ' 1\n",
       "\n",
       "(Dispersion parameter for binomial family taken to be 1)\n",
       "\n",
       "    Null deviance: 473.15  on 359  degrees of freedom\n",
       "Residual deviance: 434.76  on 354  degrees of freedom\n",
       "AIC: 446.76\n",
       "\n",
       "Number of Fisher Scoring iterations: 4\n"
      ]
     },
     "metadata": {},
     "output_type": "display_data"
    }
   ],
   "source": [
    "model4 = step(model4, direction = \"backward\", trace = 0)\n",
    "summary(model4)"
   ]
  },
  {
   "cell_type": "code",
   "execution_count": 65,
   "metadata": {},
   "outputs": [],
   "source": [
    "probability = predict(model4, testing, type=\"response\")"
   ]
  },
  {
   "cell_type": "code",
   "execution_count": 66,
   "metadata": {},
   "outputs": [
    {
     "data": {
      "text/html": [
       "<dl class=dl-horizontal>\n",
       "\t<dt>7</dt>\n",
       "\t\t<dd>0.793391940009125</dd>\n",
       "\t<dt>8</dt>\n",
       "\t\t<dd>0.703506374702339</dd>\n",
       "\t<dt>13</dt>\n",
       "\t\t<dd>0.817208153138672</dd>\n",
       "\t<dt>15</dt>\n",
       "\t\t<dd>0.417024342146062</dd>\n",
       "\t<dt>20</dt>\n",
       "\t\t<dd>0.346867001615663</dd>\n",
       "\t<dt>28</dt>\n",
       "\t\t<dd>0.797337274100048</dd>\n",
       "\t<dt>29</dt>\n",
       "\t\t<dd>0.663353155003003</dd>\n",
       "\t<dt>32</dt>\n",
       "\t\t<dd>0.892483179567102</dd>\n",
       "\t<dt>44</dt>\n",
       "\t\t<dd>0.549285884076515</dd>\n",
       "\t<dt>45</dt>\n",
       "\t\t<dd>0.562063945270904</dd>\n",
       "\t<dt>48</dt>\n",
       "\t\t<dd>0.455851671034318</dd>\n",
       "\t<dt>51</dt>\n",
       "\t\t<dd>0.73191885338296</dd>\n",
       "\t<dt>62</dt>\n",
       "\t\t<dd>0.618220257394506</dd>\n",
       "\t<dt>63</dt>\n",
       "\t\t<dd>0.438660355694839</dd>\n",
       "\t<dt>66</dt>\n",
       "\t\t<dd>0.845489116648231</dd>\n",
       "\t<dt>69</dt>\n",
       "\t\t<dd>0.454677394871941</dd>\n",
       "\t<dt>73</dt>\n",
       "\t\t<dd>0.82558538250343</dd>\n",
       "\t<dt>74</dt>\n",
       "\t\t<dd>0.715300652368911</dd>\n",
       "\t<dt>82</dt>\n",
       "\t\t<dd>0.672544659500309</dd>\n",
       "\t<dt>86</dt>\n",
       "\t\t<dd>0.819553461597251</dd>\n",
       "\t<dt>111</dt>\n",
       "\t\t<dd>0.477647777980651</dd>\n",
       "\t<dt>117</dt>\n",
       "\t\t<dd>0.564551930402504</dd>\n",
       "\t<dt>120</dt>\n",
       "\t\t<dd>0.463514728018136</dd>\n",
       "\t<dt>121</dt>\n",
       "\t\t<dd>0.574731769875452</dd>\n",
       "\t<dt>123</dt>\n",
       "\t\t<dd>0.731543588612422</dd>\n",
       "\t<dt>124</dt>\n",
       "\t\t<dd>0.540800869555727</dd>\n",
       "\t<dt>130</dt>\n",
       "\t\t<dd>0.707566856704376</dd>\n",
       "\t<dt>139</dt>\n",
       "\t\t<dd>0.543553121546657</dd>\n",
       "\t<dt>140</dt>\n",
       "\t\t<dd>0.728141540768021</dd>\n",
       "\t<dt>141</dt>\n",
       "\t\t<dd>0.731830951878003</dd>\n",
       "\t<dt>146</dt>\n",
       "\t\t<dd>0.757180178228479</dd>\n",
       "\t<dt>160</dt>\n",
       "\t\t<dd>0.592833174843771</dd>\n",
       "\t<dt>166</dt>\n",
       "\t\t<dd>0.538756351166951</dd>\n",
       "\t<dt>169</dt>\n",
       "\t\t<dd>0.430082527625713</dd>\n",
       "\t<dt>173</dt>\n",
       "\t\t<dd>0.903230820814065</dd>\n",
       "\t<dt>176</dt>\n",
       "\t\t<dd>0.784722316141447</dd>\n",
       "\t<dt>178</dt>\n",
       "\t\t<dd>0.860602976811957</dd>\n",
       "\t<dt>186</dt>\n",
       "\t\t<dd>0.656263499957256</dd>\n",
       "\t<dt>189</dt>\n",
       "\t\t<dd>0.554575762123182</dd>\n",
       "\t<dt>191</dt>\n",
       "\t\t<dd>0.807817757098935</dd>\n",
       "\t<dt>193</dt>\n",
       "\t\t<dd>0.668860918711165</dd>\n",
       "\t<dt>194</dt>\n",
       "\t\t<dd>0.6976360420845</dd>\n",
       "\t<dt>200</dt>\n",
       "\t\t<dd>0.548729249244803</dd>\n",
       "\t<dt>202</dt>\n",
       "\t\t<dd>0.519232933710979</dd>\n",
       "\t<dt>204</dt>\n",
       "\t\t<dd>0.693304534470128</dd>\n",
       "\t<dt>207</dt>\n",
       "\t\t<dd>0.776342473115133</dd>\n",
       "\t<dt>210</dt>\n",
       "\t\t<dd>0.517275652353654</dd>\n",
       "\t<dt>213</dt>\n",
       "\t\t<dd>0.48812207579807</dd>\n",
       "\t<dt>219</dt>\n",
       "\t\t<dd>0.345546749739161</dd>\n",
       "\t<dt>232</dt>\n",
       "\t\t<dd>0.84885074897092</dd>\n",
       "\t<dt>233</dt>\n",
       "\t\t<dd>0.516441469752004</dd>\n",
       "\t<dt>234</dt>\n",
       "\t\t<dd>0.688889362922758</dd>\n",
       "\t<dt>235</dt>\n",
       "\t\t<dd>0.681187486496031</dd>\n",
       "\t<dt>236</dt>\n",
       "\t\t<dd>0.832578622192877</dd>\n",
       "\t<dt>241</dt>\n",
       "\t\t<dd>0.541591845200344</dd>\n",
       "\t<dt>242</dt>\n",
       "\t\t<dd>0.596515135364043</dd>\n",
       "\t<dt>244</dt>\n",
       "\t\t<dd>0.71960535721742</dd>\n",
       "\t<dt>251</dt>\n",
       "\t\t<dd>0.546942789880323</dd>\n",
       "\t<dt>252</dt>\n",
       "\t\t<dd>0.800921331696653</dd>\n",
       "\t<dt>253</dt>\n",
       "\t\t<dd>0.682431788852542</dd>\n",
       "\t<dt>268</dt>\n",
       "\t\t<dd>0.644074214651925</dd>\n",
       "\t<dt>270</dt>\n",
       "\t\t<dd>0.763812661825147</dd>\n",
       "\t<dt>272</dt>\n",
       "\t\t<dd>0.60609824189119</dd>\n",
       "\t<dt>274</dt>\n",
       "\t\t<dd>0.439459810180221</dd>\n",
       "\t<dt>277</dt>\n",
       "\t\t<dd>0.507338984091004</dd>\n",
       "\t<dt>289</dt>\n",
       "\t\t<dd>0.683249013756498</dd>\n",
       "\t<dt>290</dt>\n",
       "\t\t<dd>0.69900083765041</dd>\n",
       "\t<dt>291</dt>\n",
       "\t\t<dd>0.807730091169327</dd>\n",
       "\t<dt>295</dt>\n",
       "\t\t<dd>0.707611209043411</dd>\n",
       "\t<dt>298</dt>\n",
       "\t\t<dd>0.50157636929136</dd>\n",
       "\t<dt>301</dt>\n",
       "\t\t<dd>0.850327776765421</dd>\n",
       "\t<dt>305</dt>\n",
       "\t\t<dd>0.617151569713505</dd>\n",
       "\t<dt>314</dt>\n",
       "\t\t<dd>0.565884722541665</dd>\n",
       "\t<dt>319</dt>\n",
       "\t\t<dd>0.370907895966282</dd>\n",
       "\t<dt>322</dt>\n",
       "\t\t<dd>0.608394119974332</dd>\n",
       "\t<dt>327</dt>\n",
       "\t\t<dd>0.810888869345974</dd>\n",
       "\t<dt>329</dt>\n",
       "\t\t<dd>0.63042182836943</dd>\n",
       "\t<dt>330</dt>\n",
       "\t\t<dd>0.662275695930633</dd>\n",
       "\t<dt>331</dt>\n",
       "\t\t<dd>0.883179990807067</dd>\n",
       "\t<dt>333</dt>\n",
       "\t\t<dd>0.615968469260784</dd>\n",
       "\t<dt>335</dt>\n",
       "\t\t<dd>0.842668265152365</dd>\n",
       "\t<dt>337</dt>\n",
       "\t\t<dd>0.573667216594907</dd>\n",
       "\t<dt>341</dt>\n",
       "\t\t<dd>0.576885241402732</dd>\n",
       "\t<dt>344</dt>\n",
       "\t\t<dd>0.578614519682052</dd>\n",
       "\t<dt>353</dt>\n",
       "\t\t<dd>0.671691952862152</dd>\n",
       "\t<dt>355</dt>\n",
       "\t\t<dd>0.447924121730555</dd>\n",
       "\t<dt>357</dt>\n",
       "\t\t<dd>0.618652194269487</dd>\n",
       "\t<dt>358</dt>\n",
       "\t\t<dd>0.56923760764751</dd>\n",
       "\t<dt>364</dt>\n",
       "\t\t<dd>0.462663105100958</dd>\n",
       "\t<dt>367</dt>\n",
       "\t\t<dd>0.834732358812551</dd>\n",
       "\t<dt>368</dt>\n",
       "\t\t<dd>0.697347490457991</dd>\n",
       "\t<dt>370</dt>\n",
       "\t\t<dd>0.48976883566035</dd>\n",
       "\t<dt>377</dt>\n",
       "\t\t<dd>0.60343261745678</dd>\n",
       "\t<dt>387</dt>\n",
       "\t\t<dd>0.388613792305391</dd>\n",
       "\t<dt>389</dt>\n",
       "\t\t<dd>0.839743388682935</dd>\n",
       "\t<dt>392</dt>\n",
       "\t\t<dd>0.731359801653764</dd>\n",
       "\t<dt>408</dt>\n",
       "\t\t<dd>0.864579522189686</dd>\n",
       "\t<dt>412</dt>\n",
       "\t\t<dd>0.316759243225598</dd>\n",
       "\t<dt>413</dt>\n",
       "\t\t<dd>0.707846885725418</dd>\n",
       "\t<dt>416</dt>\n",
       "\t\t<dd>0.843767421180959</dd>\n",
       "\t<dt>418</dt>\n",
       "\t\t<dd>0.510046849850549</dd>\n",
       "\t<dt>420</dt>\n",
       "\t\t<dd>0.49920913677295</dd>\n",
       "\t<dt>422</dt>\n",
       "\t\t<dd>0.35212946562265</dd>\n",
       "\t<dt>424</dt>\n",
       "\t\t<dd>0.693558528371365</dd>\n",
       "\t<dt>429</dt>\n",
       "\t\t<dd>0.775218062839943</dd>\n",
       "\t<dt>432</dt>\n",
       "\t\t<dd>0.280372770186298</dd>\n",
       "\t<dt>435</dt>\n",
       "\t\t<dd>0.793507775371672</dd>\n",
       "\t<dt>440</dt>\n",
       "\t\t<dd>0.77705403499954</dd>\n",
       "\t<dt>441</dt>\n",
       "\t\t<dd>0.823697690837787</dd>\n",
       "\t<dt>442</dt>\n",
       "\t\t<dd>0.829607668506644</dd>\n",
       "\t<dt>444</dt>\n",
       "\t\t<dd>0.670126804809268</dd>\n",
       "\t<dt>446</dt>\n",
       "\t\t<dd>0.850729709588559</dd>\n",
       "\t<dt>453</dt>\n",
       "\t\t<dd>0.71818909531461</dd>\n",
       "\t<dt>456</dt>\n",
       "\t\t<dd>0.550422244361937</dd>\n",
       "\t<dt>462</dt>\n",
       "\t\t<dd>0.72375090446698</dd>\n",
       "\t<dt>467</dt>\n",
       "\t\t<dd>0.484182759053187</dd>\n",
       "\t<dt>470</dt>\n",
       "\t\t<dd>0.725537731423299</dd>\n",
       "\t<dt>471</dt>\n",
       "\t\t<dd>0.783696528075152</dd>\n",
       "\t<dt>474</dt>\n",
       "\t\t<dd>0.701591074843659</dd>\n",
       "\t<dt>478</dt>\n",
       "\t\t<dd>0.607516611376636</dd>\n",
       "</dl>\n"
      ],
      "text/latex": [
       "\\begin{description*}\n",
       "\\item[7] 0.793391940009125\n",
       "\\item[8] 0.703506374702339\n",
       "\\item[13] 0.817208153138672\n",
       "\\item[15] 0.417024342146062\n",
       "\\item[20] 0.346867001615663\n",
       "\\item[28] 0.797337274100048\n",
       "\\item[29] 0.663353155003003\n",
       "\\item[32] 0.892483179567102\n",
       "\\item[44] 0.549285884076515\n",
       "\\item[45] 0.562063945270904\n",
       "\\item[48] 0.455851671034318\n",
       "\\item[51] 0.73191885338296\n",
       "\\item[62] 0.618220257394506\n",
       "\\item[63] 0.438660355694839\n",
       "\\item[66] 0.845489116648231\n",
       "\\item[69] 0.454677394871941\n",
       "\\item[73] 0.82558538250343\n",
       "\\item[74] 0.715300652368911\n",
       "\\item[82] 0.672544659500309\n",
       "\\item[86] 0.819553461597251\n",
       "\\item[111] 0.477647777980651\n",
       "\\item[117] 0.564551930402504\n",
       "\\item[120] 0.463514728018136\n",
       "\\item[121] 0.574731769875452\n",
       "\\item[123] 0.731543588612422\n",
       "\\item[124] 0.540800869555727\n",
       "\\item[130] 0.707566856704376\n",
       "\\item[139] 0.543553121546657\n",
       "\\item[140] 0.728141540768021\n",
       "\\item[141] 0.731830951878003\n",
       "\\item[146] 0.757180178228479\n",
       "\\item[160] 0.592833174843771\n",
       "\\item[166] 0.538756351166951\n",
       "\\item[169] 0.430082527625713\n",
       "\\item[173] 0.903230820814065\n",
       "\\item[176] 0.784722316141447\n",
       "\\item[178] 0.860602976811957\n",
       "\\item[186] 0.656263499957256\n",
       "\\item[189] 0.554575762123182\n",
       "\\item[191] 0.807817757098935\n",
       "\\item[193] 0.668860918711165\n",
       "\\item[194] 0.6976360420845\n",
       "\\item[200] 0.548729249244803\n",
       "\\item[202] 0.519232933710979\n",
       "\\item[204] 0.693304534470128\n",
       "\\item[207] 0.776342473115133\n",
       "\\item[210] 0.517275652353654\n",
       "\\item[213] 0.48812207579807\n",
       "\\item[219] 0.345546749739161\n",
       "\\item[232] 0.84885074897092\n",
       "\\item[233] 0.516441469752004\n",
       "\\item[234] 0.688889362922758\n",
       "\\item[235] 0.681187486496031\n",
       "\\item[236] 0.832578622192877\n",
       "\\item[241] 0.541591845200344\n",
       "\\item[242] 0.596515135364043\n",
       "\\item[244] 0.71960535721742\n",
       "\\item[251] 0.546942789880323\n",
       "\\item[252] 0.800921331696653\n",
       "\\item[253] 0.682431788852542\n",
       "\\item[268] 0.644074214651925\n",
       "\\item[270] 0.763812661825147\n",
       "\\item[272] 0.60609824189119\n",
       "\\item[274] 0.439459810180221\n",
       "\\item[277] 0.507338984091004\n",
       "\\item[289] 0.683249013756498\n",
       "\\item[290] 0.69900083765041\n",
       "\\item[291] 0.807730091169327\n",
       "\\item[295] 0.707611209043411\n",
       "\\item[298] 0.50157636929136\n",
       "\\item[301] 0.850327776765421\n",
       "\\item[305] 0.617151569713505\n",
       "\\item[314] 0.565884722541665\n",
       "\\item[319] 0.370907895966282\n",
       "\\item[322] 0.608394119974332\n",
       "\\item[327] 0.810888869345974\n",
       "\\item[329] 0.63042182836943\n",
       "\\item[330] 0.662275695930633\n",
       "\\item[331] 0.883179990807067\n",
       "\\item[333] 0.615968469260784\n",
       "\\item[335] 0.842668265152365\n",
       "\\item[337] 0.573667216594907\n",
       "\\item[341] 0.576885241402732\n",
       "\\item[344] 0.578614519682052\n",
       "\\item[353] 0.671691952862152\n",
       "\\item[355] 0.447924121730555\n",
       "\\item[357] 0.618652194269487\n",
       "\\item[358] 0.56923760764751\n",
       "\\item[364] 0.462663105100958\n",
       "\\item[367] 0.834732358812551\n",
       "\\item[368] 0.697347490457991\n",
       "\\item[370] 0.48976883566035\n",
       "\\item[377] 0.60343261745678\n",
       "\\item[387] 0.388613792305391\n",
       "\\item[389] 0.839743388682935\n",
       "\\item[392] 0.731359801653764\n",
       "\\item[408] 0.864579522189686\n",
       "\\item[412] 0.316759243225598\n",
       "\\item[413] 0.707846885725418\n",
       "\\item[416] 0.843767421180959\n",
       "\\item[418] 0.510046849850549\n",
       "\\item[420] 0.49920913677295\n",
       "\\item[422] 0.35212946562265\n",
       "\\item[424] 0.693558528371365\n",
       "\\item[429] 0.775218062839943\n",
       "\\item[432] 0.280372770186298\n",
       "\\item[435] 0.793507775371672\n",
       "\\item[440] 0.77705403499954\n",
       "\\item[441] 0.823697690837787\n",
       "\\item[442] 0.829607668506644\n",
       "\\item[444] 0.670126804809268\n",
       "\\item[446] 0.850729709588559\n",
       "\\item[453] 0.71818909531461\n",
       "\\item[456] 0.550422244361937\n",
       "\\item[462] 0.72375090446698\n",
       "\\item[467] 0.484182759053187\n",
       "\\item[470] 0.725537731423299\n",
       "\\item[471] 0.783696528075152\n",
       "\\item[474] 0.701591074843659\n",
       "\\item[478] 0.607516611376636\n",
       "\\end{description*}\n"
      ],
      "text/markdown": [
       "7\n",
       ":   0.7933919400091258\n",
       ":   0.70350637470233913\n",
       ":   0.81720815313867215\n",
       ":   0.41702434214606220\n",
       ":   0.34686700161566328\n",
       ":   0.79733727410004829\n",
       ":   0.66335315500300332\n",
       ":   0.89248317956710244\n",
       ":   0.54928588407651545\n",
       ":   0.56206394527090448\n",
       ":   0.45585167103431851\n",
       ":   0.7319188533829662\n",
       ":   0.61822025739450663\n",
       ":   0.43866035569483966\n",
       ":   0.84548911664823169\n",
       ":   0.45467739487194173\n",
       ":   0.8255853825034374\n",
       ":   0.71530065236891182\n",
       ":   0.67254465950030986\n",
       ":   0.819553461597251111\n",
       ":   0.477647777980651117\n",
       ":   0.564551930402504120\n",
       ":   0.463514728018136121\n",
       ":   0.574731769875452123\n",
       ":   0.731543588612422124\n",
       ":   0.540800869555727130\n",
       ":   0.707566856704376139\n",
       ":   0.543553121546657140\n",
       ":   0.728141540768021141\n",
       ":   0.731830951878003146\n",
       ":   0.757180178228479160\n",
       ":   0.592833174843771166\n",
       ":   0.538756351166951169\n",
       ":   0.430082527625713173\n",
       ":   0.903230820814065176\n",
       ":   0.784722316141447178\n",
       ":   0.860602976811957186\n",
       ":   0.656263499957256189\n",
       ":   0.554575762123182191\n",
       ":   0.807817757098935193\n",
       ":   0.668860918711165194\n",
       ":   0.6976360420845200\n",
       ":   0.548729249244803202\n",
       ":   0.519232933710979204\n",
       ":   0.693304534470128207\n",
       ":   0.776342473115133210\n",
       ":   0.517275652353654213\n",
       ":   0.48812207579807219\n",
       ":   0.345546749739161232\n",
       ":   0.84885074897092233\n",
       ":   0.516441469752004234\n",
       ":   0.688889362922758235\n",
       ":   0.681187486496031236\n",
       ":   0.832578622192877241\n",
       ":   0.541591845200344242\n",
       ":   0.596515135364043244\n",
       ":   0.71960535721742251\n",
       ":   0.546942789880323252\n",
       ":   0.800921331696653253\n",
       ":   0.682431788852542268\n",
       ":   0.644074214651925270\n",
       ":   0.763812661825147272\n",
       ":   0.60609824189119274\n",
       ":   0.439459810180221277\n",
       ":   0.507338984091004289\n",
       ":   0.683249013756498290\n",
       ":   0.69900083765041291\n",
       ":   0.807730091169327295\n",
       ":   0.707611209043411298\n",
       ":   0.50157636929136301\n",
       ":   0.850327776765421305\n",
       ":   0.617151569713505314\n",
       ":   0.565884722541665319\n",
       ":   0.370907895966282322\n",
       ":   0.608394119974332327\n",
       ":   0.810888869345974329\n",
       ":   0.63042182836943330\n",
       ":   0.662275695930633331\n",
       ":   0.883179990807067333\n",
       ":   0.615968469260784335\n",
       ":   0.842668265152365337\n",
       ":   0.573667216594907341\n",
       ":   0.576885241402732344\n",
       ":   0.578614519682052353\n",
       ":   0.671691952862152355\n",
       ":   0.447924121730555357\n",
       ":   0.618652194269487358\n",
       ":   0.56923760764751364\n",
       ":   0.462663105100958367\n",
       ":   0.834732358812551368\n",
       ":   0.697347490457991370\n",
       ":   0.48976883566035377\n",
       ":   0.60343261745678387\n",
       ":   0.388613792305391389\n",
       ":   0.839743388682935392\n",
       ":   0.731359801653764408\n",
       ":   0.864579522189686412\n",
       ":   0.316759243225598413\n",
       ":   0.707846885725418416\n",
       ":   0.843767421180959418\n",
       ":   0.510046849850549420\n",
       ":   0.49920913677295422\n",
       ":   0.35212946562265424\n",
       ":   0.693558528371365429\n",
       ":   0.775218062839943432\n",
       ":   0.280372770186298435\n",
       ":   0.793507775371672440\n",
       ":   0.77705403499954441\n",
       ":   0.823697690837787442\n",
       ":   0.829607668506644444\n",
       ":   0.670126804809268446\n",
       ":   0.850729709588559453\n",
       ":   0.71818909531461456\n",
       ":   0.550422244361937462\n",
       ":   0.72375090446698467\n",
       ":   0.484182759053187470\n",
       ":   0.725537731423299471\n",
       ":   0.783696528075152474\n",
       ":   0.701591074843659478\n",
       ":   0.607516611376636\n",
       "\n"
      ],
      "text/plain": [
       "        7         8        13        15        20        28        29        32 \n",
       "0.7933919 0.7035064 0.8172082 0.4170243 0.3468670 0.7973373 0.6633532 0.8924832 \n",
       "       44        45        48        51        62        63        66        69 \n",
       "0.5492859 0.5620639 0.4558517 0.7319189 0.6182203 0.4386604 0.8454891 0.4546774 \n",
       "       73        74        82        86       111       117       120       121 \n",
       "0.8255854 0.7153007 0.6725447 0.8195535 0.4776478 0.5645519 0.4635147 0.5747318 \n",
       "      123       124       130       139       140       141       146       160 \n",
       "0.7315436 0.5408009 0.7075669 0.5435531 0.7281415 0.7318310 0.7571802 0.5928332 \n",
       "      166       169       173       176       178       186       189       191 \n",
       "0.5387564 0.4300825 0.9032308 0.7847223 0.8606030 0.6562635 0.5545758 0.8078178 \n",
       "      193       194       200       202       204       207       210       213 \n",
       "0.6688609 0.6976360 0.5487292 0.5192329 0.6933045 0.7763425 0.5172757 0.4881221 \n",
       "      219       232       233       234       235       236       241       242 \n",
       "0.3455467 0.8488507 0.5164415 0.6888894 0.6811875 0.8325786 0.5415918 0.5965151 \n",
       "      244       251       252       253       268       270       272       274 \n",
       "0.7196054 0.5469428 0.8009213 0.6824318 0.6440742 0.7638127 0.6060982 0.4394598 \n",
       "      277       289       290       291       295       298       301       305 \n",
       "0.5073390 0.6832490 0.6990008 0.8077301 0.7076112 0.5015764 0.8503278 0.6171516 \n",
       "      314       319       322       327       329       330       331       333 \n",
       "0.5658847 0.3709079 0.6083941 0.8108889 0.6304218 0.6622757 0.8831800 0.6159685 \n",
       "      335       337       341       344       353       355       357       358 \n",
       "0.8426683 0.5736672 0.5768852 0.5786145 0.6716920 0.4479241 0.6186522 0.5692376 \n",
       "      364       367       368       370       377       387       389       392 \n",
       "0.4626631 0.8347324 0.6973475 0.4897688 0.6034326 0.3886138 0.8397434 0.7313598 \n",
       "      408       412       413       416       418       420       422       424 \n",
       "0.8645795 0.3167592 0.7078469 0.8437674 0.5100468 0.4992091 0.3521295 0.6935585 \n",
       "      429       432       435       440       441       442       444       446 \n",
       "0.7752181 0.2803728 0.7935078 0.7770540 0.8236977 0.8296077 0.6701268 0.8507297 \n",
       "      453       456       462       467       470       471       474       478 \n",
       "0.7181891 0.5504222 0.7237509 0.4841828 0.7255377 0.7836965 0.7015911 0.6075166 "
      ]
     },
     "metadata": {},
     "output_type": "display_data"
    }
   ],
   "source": [
    "probability"
   ]
  },
  {
   "cell_type": "markdown",
   "metadata": {},
   "source": [
    "# How do I choose the cut off? Anything above 0.5 is Male, below is Female."
   ]
  },
  {
   "cell_type": "code",
   "execution_count": 69,
   "metadata": {},
   "outputs": [],
   "source": [
    "testing$prediction = probability > 0.5"
   ]
  },
  {
   "cell_type": "code",
   "execution_count": 70,
   "metadata": {},
   "outputs": [
    {
     "data": {
      "text/plain": [
       "       \n",
       "        FALSE TRUE\n",
       "  FALSE     9   34\n",
       "  TRUE     12   65"
      ]
     },
     "metadata": {},
     "output_type": "display_data"
    }
   ],
   "source": [
    "table(testing$M, testing$prediction)"
   ]
  },
  {
   "cell_type": "markdown",
   "metadata": {},
   "source": [
    "# Accuracy"
   ]
  },
  {
   "cell_type": "code",
   "execution_count": 86,
   "metadata": {},
   "outputs": [
    {
     "data": {
      "text/html": [
       "0.616666666666667"
      ],
      "text/latex": [
       "0.616666666666667"
      ],
      "text/markdown": [
       "0.616666666666667"
      ],
      "text/plain": [
       "[1] 0.6166667"
      ]
     },
     "metadata": {},
     "output_type": "display_data"
    }
   ],
   "source": [
    "(65+9)/120"
   ]
  },
  {
   "cell_type": "markdown",
   "metadata": {},
   "source": [
    "# Precision / Positive Predictive Value"
   ]
  },
  {
   "cell_type": "code",
   "execution_count": 89,
   "metadata": {},
   "outputs": [
    {
     "data": {
      "text/html": [
       "0.878378378378378"
      ],
      "text/latex": [
       "0.878378378378378"
      ],
      "text/markdown": [
       "0.878378378378378"
      ],
      "text/plain": [
       "[1] 0.8783784"
      ]
     },
     "metadata": {},
     "output_type": "display_data"
    }
   ],
   "source": [
    "65/(65+9)"
   ]
  },
  {
   "cell_type": "markdown",
   "metadata": {},
   "source": [
    "# Why not use accuracy or ppv? "
   ]
  },
  {
   "cell_type": "code",
   "execution_count": 72,
   "metadata": {},
   "outputs": [
    {
     "name": "stderr",
     "output_type": "stream",
     "text": [
      "Loading required package: gplots\n",
      "\n",
      "Attaching package: 'gplots'\n",
      "\n",
      "The following object is masked from 'package:stats':\n",
      "\n",
      "    lowess\n",
      "\n"
     ]
    }
   ],
   "source": [
    "library(ROCR)"
   ]
  },
  {
   "cell_type": "code",
   "execution_count": 73,
   "metadata": {},
   "outputs": [],
   "source": [
    "pred <- prediction(probability, testing$M)"
   ]
  },
  {
   "cell_type": "code",
   "execution_count": 74,
   "metadata": {},
   "outputs": [],
   "source": [
    "perf <- performance(pred, measure = \"acc\", x.measure = \"ppv\")"
   ]
  },
  {
   "cell_type": "code",
   "execution_count": 76,
   "metadata": {},
   "outputs": [
    {
     "data": {
      "image/png": "[encoded data removed]",
      "text/plain": [
       "plot without title"
      ]
     },
     "metadata": {},
     "output_type": "display_data"
    }
   ],
   "source": [
    "plot(perf, col=rainbow(10), colorize=TRUE, xlim=c(0.6, 1.0), ylim=c(0.3, 0.8))"
   ]
  },
  {
   "cell_type": "code",
   "execution_count": 133,
   "metadata": {},
   "outputs": [],
   "source": [
    "testing$prediction = probability > 0.65"
   ]
  },
  {
   "cell_type": "code",
   "execution_count": 134,
   "metadata": {},
   "outputs": [
    {
     "data": {
      "text/plain": [
       "       \n",
       "        FALSE TRUE\n",
       "  FALSE    28   15\n",
       "  TRUE     28   49"
      ]
     },
     "metadata": {},
     "output_type": "display_data"
    }
   ],
   "source": [
    "table(testing$M, testing$prediction)"
   ]
  },
  {
   "cell_type": "markdown",
   "metadata": {},
   "source": [
    "# Accuracy: "
   ]
  },
  {
   "cell_type": "code",
   "execution_count": 135,
   "metadata": {},
   "outputs": [
    {
     "data": {
      "text/html": [
       "0.641666666666667"
      ],
      "text/latex": [
       "0.641666666666667"
      ],
      "text/markdown": [
       "0.641666666666667"
      ],
      "text/plain": [
       "[1] 0.6416667"
      ]
     },
     "metadata": {},
     "output_type": "display_data"
    }
   ],
   "source": [
    "(28+49)/120"
   ]
  },
  {
   "cell_type": "markdown",
   "metadata": {},
   "source": [
    "# Precision / Positive Predictive Value"
   ]
  },
  {
   "cell_type": "code",
   "execution_count": 136,
   "metadata": {},
   "outputs": [
    {
     "data": {
      "text/html": [
       "0.765625"
      ],
      "text/latex": [
       "0.765625"
      ],
      "text/markdown": [
       "0.765625"
      ],
      "text/plain": [
       "[1] 0.765625"
      ]
     },
     "metadata": {},
     "output_type": "display_data"
    }
   ],
   "source": [
    "49/(49+15)"
   ]
  },
  {
   "cell_type": "markdown",
   "metadata": {},
   "source": [
    "# Sensitivity"
   ]
  },
  {
   "cell_type": "code",
   "execution_count": 137,
   "metadata": {},
   "outputs": [
    {
     "data": {
      "text/html": [
       "28.9655172413793"
      ],
      "text/latex": [
       "28.9655172413793"
      ],
      "text/markdown": [
       "28.9655172413793"
      ],
      "text/plain": [
       "[1] 28.96552"
      ]
     },
     "metadata": {},
     "output_type": "display_data"
    }
   ],
   "source": [
    "(28/29)+(28)"
   ]
  },
  {
   "cell_type": "code",
   "execution_count": null,
   "metadata": {},
   "outputs": [],
   "source": []
  }
 ],
 "metadata": {
  "kernelspec": {
   "display_name": "R",
   "language": "R",
   "name": "ir"
  },
  "language_info": {
   "codemirror_mode": "r",
   "file_extension": ".r",
   "mimetype": "text/x-r-source",
   "name": "R",
   "pygments_lexer": "r",
   "version": "3.4.1"
  }
 },
 "nbformat": 4,
 "nbformat_minor": 2
}
