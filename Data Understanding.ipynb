{
 "cells": [
  {
   "cell_type": "code",
   "execution_count": 1,
   "metadata": {},
   "outputs": [],
   "source": [
    "Students=read.csv(\"Project Data.csv\")"
   ]
  },
  {
   "cell_type": "code",
   "execution_count": 3,
   "metadata": {},
   "outputs": [
    {
     "data": {
      "text/html": [
       "<table>\n",
       "<thead><tr><th scope=col>Gender</th><th scope=col>Nationality</th><th scope=col>PlaceofBirth</th><th scope=col>StageID</th><th scope=col>Topic</th><th scope=col>Semester</th><th scope=col>Raisedhands</th><th scope=col>Visted.Resources</th><th scope=col>AnnouncementsView</th><th scope=col>Discussions</th><th scope=col>Parent.Satisfaction</th><th scope=col>Absences</th><th scope=col>Class.Size</th></tr></thead>\n",
       "<tbody>\n",
       "\t<tr><td>M         </td><td>KW        </td><td>Kuwait    </td><td>Elementary</td><td>IT        </td><td>F         </td><td>15        </td><td>16        </td><td> 2        </td><td>20        </td><td>Good      </td><td>Under-7   </td><td>M         </td></tr>\n",
       "\t<tr><td>M         </td><td>KW        </td><td>Kuwait    </td><td>Elementary</td><td>IT        </td><td>F         </td><td>20        </td><td>20        </td><td> 3        </td><td>25        </td><td>Good      </td><td>Under-7   </td><td>M         </td></tr>\n",
       "\t<tr><td>M         </td><td>KW        </td><td>Kuwait    </td><td>Elementary</td><td>IT        </td><td>F         </td><td>10        </td><td> 7        </td><td> 0        </td><td>30        </td><td>Bad       </td><td>Above-7   </td><td>L         </td></tr>\n",
       "\t<tr><td>M         </td><td>KW        </td><td>Kuwait    </td><td>Elementary</td><td>IT        </td><td>F         </td><td>30        </td><td>25        </td><td> 5        </td><td>35        </td><td>Bad       </td><td>Above-7   </td><td>L         </td></tr>\n",
       "\t<tr><td>M         </td><td>KW        </td><td>Kuwait    </td><td>Elementary</td><td>IT        </td><td>F         </td><td>40        </td><td>50        </td><td>12        </td><td>50        </td><td>Bad       </td><td>Above-7   </td><td>M         </td></tr>\n",
       "\t<tr><td>F         </td><td>KW        </td><td>Kuwait    </td><td>Elementary</td><td>IT        </td><td>F         </td><td>42        </td><td>30        </td><td>13        </td><td>70        </td><td>Bad       </td><td>Above-7   </td><td>M         </td></tr>\n",
       "</tbody>\n",
       "</table>\n"
      ],
      "text/latex": [
       "\\begin{tabular}{r|lllllllllllll}\n",
       " Gender & Nationality & PlaceofBirth & StageID & Topic & Semester & Raisedhands & Visted.Resources & AnnouncementsView & Discussions & Parent.Satisfaction & Absences & Class.Size\\\\\n",
       "\\hline\n",
       "\t M          & KW         & Kuwait     & Elementary & IT         & F          & 15         & 16         &  2         & 20         & Good       & Under-7    & M         \\\\\n",
       "\t M          & KW         & Kuwait     & Elementary & IT         & F          & 20         & 20         &  3         & 25         & Good       & Under-7    & M         \\\\\n",
       "\t M          & KW         & Kuwait     & Elementary & IT         & F          & 10         &  7         &  0         & 30         & Bad        & Above-7    & L         \\\\\n",
       "\t M          & KW         & Kuwait     & Elementary & IT         & F          & 30         & 25         &  5         & 35         & Bad        & Above-7    & L         \\\\\n",
       "\t M          & KW         & Kuwait     & Elementary & IT         & F          & 40         & 50         & 12         & 50         & Bad        & Above-7    & M         \\\\\n",
       "\t F          & KW         & Kuwait     & Elementary & IT         & F          & 42         & 30         & 13         & 70         & Bad        & Above-7    & M         \\\\\n",
       "\\end{tabular}\n"
      ],
      "text/markdown": [
       "\n",
       "Gender | Nationality | PlaceofBirth | StageID | Topic | Semester | Raisedhands | Visted.Resources | AnnouncementsView | Discussions | Parent.Satisfaction | Absences | Class.Size | \n",
       "|---|---|---|---|---|---|\n",
       "| M          | KW         | Kuwait     | Elementary | IT         | F          | 15         | 16         |  2         | 20         | Good       | Under-7    | M          | \n",
       "| M          | KW         | Kuwait     | Elementary | IT         | F          | 20         | 20         |  3         | 25         | Good       | Under-7    | M          | \n",
       "| M          | KW         | Kuwait     | Elementary | IT         | F          | 10         |  7         |  0         | 30         | Bad        | Above-7    | L          | \n",
       "| M          | KW         | Kuwait     | Elementary | IT         | F          | 30         | 25         |  5         | 35         | Bad        | Above-7    | L          | \n",
       "| M          | KW         | Kuwait     | Elementary | IT         | F          | 40         | 50         | 12         | 50         | Bad        | Above-7    | M          | \n",
       "| F          | KW         | Kuwait     | Elementary | IT         | F          | 42         | 30         | 13         | 70         | Bad        | Above-7    | M          | \n",
       "\n",
       "\n"
      ],
      "text/plain": [
       "  Gender Nationality PlaceofBirth StageID    Topic Semester Raisedhands\n",
       "1 M      KW          Kuwait       Elementary IT    F        15         \n",
       "2 M      KW          Kuwait       Elementary IT    F        20         \n",
       "3 M      KW          Kuwait       Elementary IT    F        10         \n",
       "4 M      KW          Kuwait       Elementary IT    F        30         \n",
       "5 M      KW          Kuwait       Elementary IT    F        40         \n",
       "6 F      KW          Kuwait       Elementary IT    F        42         \n",
       "  Visted.Resources AnnouncementsView Discussions Parent.Satisfaction Absences\n",
       "1 16                2                20          Good                Under-7 \n",
       "2 20                3                25          Good                Under-7 \n",
       "3  7                0                30          Bad                 Above-7 \n",
       "4 25                5                35          Bad                 Above-7 \n",
       "5 50               12                50          Bad                 Above-7 \n",
       "6 30               13                70          Bad                 Above-7 \n",
       "  Class.Size\n",
       "1 M         \n",
       "2 M         \n",
       "3 L         \n",
       "4 L         \n",
       "5 M         \n",
       "6 M         "
      ]
     },
     "metadata": {},
     "output_type": "display_data"
    }
   ],
   "source": [
    "head(Students)"
   ]
  },
  {
   "cell_type": "code",
   "execution_count": 4,
   "metadata": {},
   "outputs": [
    {
     "data": {
      "text/plain": [
       " Gender     Nationality       PlaceofBirth       StageID        Topic    \n",
       " F:175   KW       :179   Kuwait     :180   Elementary:199   IT     : 95  \n",
       " M:305   Jordan   :172   Jordan     :176   High      : 33   French : 65  \n",
       "         Palestine: 28   Iraq       : 22   Middle    :248   Arabic : 59  \n",
       "         Iraq     : 22   Lebanon    : 19                    Science: 51  \n",
       "         lebanon  : 16   SaudiArabia: 16                    English: 45  \n",
       "         Tunis    : 12   USA        : 16                    Biology: 30  \n",
       "         (Other)  : 51   (Other)    : 51                    (Other):135  \n",
       " Semester  Raisedhands     Visted.Resources AnnouncementsView  Discussions   \n",
       " F:245    Min.   :  0.00   Min.   : 0.0     Min.   : 0.00     Min.   : 1.00  \n",
       " S:235    1st Qu.: 15.75   1st Qu.:20.0     1st Qu.:14.00     1st Qu.:20.00  \n",
       "          Median : 50.00   Median :65.0     Median :33.00     Median :39.00  \n",
       "          Mean   : 46.77   Mean   :54.8     Mean   :37.92     Mean   :43.28  \n",
       "          3rd Qu.: 75.00   3rd Qu.:84.0     3rd Qu.:58.00     3rd Qu.:70.00  \n",
       "          Max.   :100.00   Max.   :99.0     Max.   :98.00     Max.   :99.00  \n",
       "                                                                             \n",
       " Parent.Satisfaction    Absences   Class.Size\n",
       " Bad :188            Above-7:191   H:142     \n",
       " Good:292            Under-7:289   L:127     \n",
       "                                   M:211     \n",
       "                                             \n",
       "                                             \n",
       "                                             \n",
       "                                             "
      ]
     },
     "metadata": {},
     "output_type": "display_data"
    }
   ],
   "source": [
    "summary(Students)"
   ]
  },
  {
   "cell_type": "markdown",
   "metadata": {},
   "source": [
    "# Gender: Categorical - What gender the student is\n",
    "# Nationality: Categorical - The nationality of the student\n",
    "# PlaceofBirth: Categorical - Where the student was born\t\n",
    "# StageID: Categorical - What year of school the student is studying\n",
    "# Topic: Categorical\t- A singular school subject\n",
    "# Semester: Categorical - When the class has taken place\n",
    "# Parent.Satisfaction: Categorical - How the parents feel about the school's effect on their child's academic performance\n",
    "# Absences: Categorical - When a student is not present\n",
    "# Class.Size: Categorical - The amount of students in a class.\n",
    "# Raisedhands: Numerical - How many students rasied their hand\n",
    "# Visted.Resources: Numerical\t- How many students utilized resources for academic reasons\n",
    "# AnnouncementsView: Numerical - How many students view the announcements\n",
    "# Discussions: Numerical - How many students who participate in class via discussion."
   ]
  },
  {
   "cell_type": "markdown",
   "metadata": {},
   "source": [
    "# Ordanial (Ranked Data): Gender, Class Size, Absences, and Parent Satisfaction."
   ]
  },
  {
   "cell_type": "code",
   "execution_count": null,
   "metadata": {},
   "outputs": [],
   "source": [
    "plot"
   ]
  }
 ],
 "metadata": {
  "kernelspec": {
   "display_name": "R",
   "language": "R",
   "name": "ir"
  },
  "language_info": {
   "codemirror_mode": "r",
   "file_extension": ".r",
   "mimetype": "text/x-r-source",
   "name": "R",
   "pygments_lexer": "r",
   "version": "3.4.1"
  }
 },
 "nbformat": 4,
 "nbformat_minor": 2
}
